{
 "cells": [
  {
   "cell_type": "code",
   "execution_count": null,
   "id": "cc4f29d3",
   "metadata": {},
   "outputs": [],
   "source": [
    "import pandas as pd\n",
    "import numpy as np"
   ]
  },
  {
   "cell_type": "code",
   "execution_count": null,
   "id": "007e4fdc",
   "metadata": {},
   "outputs": [],
   "source": [
    "import gc\n",
    "gc.collect()"
   ]
  },
  {
   "cell_type": "code",
   "execution_count": null,
   "id": "d6ecd00d",
   "metadata": {},
   "outputs": [],
   "source": [
    "df_1_df=pd.read_parquet(r\"D:\\PA New Parquets\\1.parquet\")\n",
    "df_2_df=pd.read_parquet(r\"D:\\PA New Parquets\\2.parquet\")\n",
    "df_3_df=pd.read_parquet(r\"D:\\PA New Parquets\\3.parquet\")\n",
    "df_4_df=pd.read_parquet(r\"D:\\PA New Parquets\\4.parquet\")\n",
    "df_5_df=pd.read_parquet(r\"D:\\PA New Parquets\\5.parquet\")\n",
    "df_6_df=pd.read_parquet(r\"D:\\PA New Parquets\\6.parquet\")\n",
    "df_7_df=pd.read_parquet(r\"D:\\PA New Parquets\\7.parquet\")\n",
    "df_8_df=pd.read_parquet(r\"D:\\PA New Parquets\\8.parquet\")\n",
    "df_9_df=pd.read_parquet(r\"D:\\PA New Parquets\\9.parquet\")\n",
    "df_10_df=pd.read_parquet(r\"D:\\PA New Parquets\\10.parquet\")\n",
    "df_11_df=pd.read_parquet(r\"D:\\PA New Parquets\\11.parquet\")\n",
    "df_12_df=pd.read_parquet(r\"D:\\PA New Parquets\\12.parquet\")\n",
    "df_13_df=pd.read_parquet(r\"D:\\PA New Parquets\\13.parquet\")"
   ]
  },
  {
   "cell_type": "code",
   "execution_count": null,
   "id": "1925251b",
   "metadata": {},
   "outputs": [],
   "source": [
    "df_1_dfa=df_1_df[df_1_df[\"1999\"]==1][[\"dir1\",\"dir2\"]]\n",
    "df_1_dfa[\"dir1\"]=df_1_dfa[\"dir1\"].astype(\"O\")\n",
    "df_1_dfa[\"dir2\"]=df_1_dfa[\"dir2\"].astype(\"O\")"
   ]
  },
  {
   "cell_type": "code",
   "execution_count": null,
   "id": "00cbf055",
   "metadata": {},
   "outputs": [],
   "source": [
    "df_2_dfa=df_2_df[df_2_df[\"1999\"]==1][[\"dir1\",\"dir2\"]]\n",
    "df_2_dfa[\"dir1\"]=df_2_dfa[\"dir1\"].astype(\"O\")\n",
    "df_2_dfa[\"dir2\"]=df_2_dfa[\"dir2\"].astype(\"O\")"
   ]
  },
  {
   "cell_type": "code",
   "execution_count": null,
   "id": "1677fcc3",
   "metadata": {},
   "outputs": [],
   "source": [
    "df_3_dfa=df_3_df[df_3_df[\"1999\"]==1][[\"dir1\",\"dir2\"]]\n",
    "df_3_dfa[\"dir1\"]=df_3_dfa[\"dir1\"].astype(\"O\")\n",
    "df_3_dfa[\"dir2\"]=df_3_dfa[\"dir2\"].astype(\"O\")"
   ]
  },
  {
   "cell_type": "code",
   "execution_count": null,
   "id": "23d5a179",
   "metadata": {},
   "outputs": [],
   "source": [
    "df_4_dfa=df_4_df[df_4_df[\"1999\"]==1][[\"dir1\",\"dir2\"]]\n",
    "df_4_dfa[\"dir1\"]=df_4_dfa[\"dir1\"].astype(\"O\")\n",
    "df_4_dfa[\"dir2\"]=df_4_dfa[\"dir2\"].astype(\"O\")"
   ]
  },
  {
   "cell_type": "code",
   "execution_count": null,
   "id": "8dca25a8",
   "metadata": {},
   "outputs": [],
   "source": [
    "df_5_dfa=df_5_df[df_5_df[\"1999\"]==1][[\"dir1\",\"dir2\"]]\n",
    "df_5_dfa[\"dir1\"]=df_5_dfa[\"dir1\"].astype(\"O\")\n",
    "df_5_dfa[\"dir2\"]=df_5_dfa[\"dir2\"].astype(\"O\")"
   ]
  },
  {
   "cell_type": "code",
   "execution_count": null,
   "id": "d6ffc757",
   "metadata": {},
   "outputs": [],
   "source": [
    "df_6_dfa=df_6_df[df_6_df[\"1999\"]==1][[\"dir1\",\"dir2\"]]\n",
    "df_6_dfa[\"dir1\"]=df_6_dfa[\"dir1\"].astype(\"O\")\n",
    "df_6_dfa[\"dir2\"]=df_6_dfa[\"dir2\"].astype(\"O\")"
   ]
  },
  {
   "cell_type": "code",
   "execution_count": null,
   "id": "fbaf5eb5",
   "metadata": {},
   "outputs": [],
   "source": [
    "df_7_dfa=df_7_df[df_7_df[\"1999\"]==1][[\"dir1\",\"dir2\"]]\n",
    "df_7_dfa[\"dir1\"]=df_7_dfa[\"dir1\"].astype(\"O\")\n",
    "df_7_dfa[\"dir2\"]=df_7_dfa[\"dir2\"].astype(\"O\")"
   ]
  },
  {
   "cell_type": "code",
   "execution_count": null,
   "id": "6e5fa1eb",
   "metadata": {},
   "outputs": [],
   "source": [
    "df_8_dfa=df_8_df[df_8_df[\"1999\"]==1][[\"dir1\",\"dir2\"]]\n",
    "df_8_dfa[\"dir1\"]=df_8_dfa[\"dir1\"].astype(\"O\")\n",
    "df_8_dfa[\"dir2\"]=df_8_dfa[\"dir2\"].astype(\"O\")"
   ]
  },
  {
   "cell_type": "code",
   "execution_count": null,
   "id": "c977dc0c",
   "metadata": {},
   "outputs": [],
   "source": [
    "df_9_dfa=df_9_df[df_9_df[\"1999\"]==1][[\"dir1\",\"dir2\"]]\n",
    "df_9_dfa[\"dir1\"]=df_9_dfa[\"dir1\"].astype(\"O\")\n",
    "df_9_dfa[\"dir2\"]=df_9_dfa[\"dir2\"].astype(\"O\")"
   ]
  },
  {
   "cell_type": "code",
   "execution_count": null,
   "id": "4853e3c9",
   "metadata": {},
   "outputs": [],
   "source": [
    "df_10_dfa=df_10_df[df_10_df[\"1999\"]==1][[\"dir1\",\"dir2\"]]\n",
    "df_10_dfa[\"dir1\"]=df_10_dfa[\"dir1\"].astype(\"O\")\n",
    "df_10_dfa[\"dir2\"]=df_10_dfa[\"dir2\"].astype(\"O\")"
   ]
  },
  {
   "cell_type": "code",
   "execution_count": null,
   "id": "0ab4f617",
   "metadata": {},
   "outputs": [],
   "source": [
    "df_11_dfa=df_11_df[df_11_df[\"1999\"]==1][[\"dir1\",\"dir2\"]]\n",
    "df_11_dfa[\"dir1\"]=df_11_dfa[\"dir1\"].astype(\"O\")\n",
    "df_11_dfa[\"dir2\"]=df_11_dfa[\"dir2\"].astype(\"O\")"
   ]
  },
  {
   "cell_type": "code",
   "execution_count": null,
   "id": "f1e1e44d",
   "metadata": {},
   "outputs": [],
   "source": [
    "df_12_dfa=df_12_df[df_12_df[\"1999\"]==1][[\"dir1\",\"dir2\"]]\n",
    "df_12_dfa[\"dir1\"]=df_12_dfa[\"dir1\"].astype(\"O\")\n",
    "df_12_dfa[\"dir2\"]=df_12_dfa[\"dir2\"].astype(\"O\")"
   ]
  },
  {
   "cell_type": "code",
   "execution_count": null,
   "id": "119935b6",
   "metadata": {},
   "outputs": [],
   "source": [
    "df_13_dfa=df_13_df[df_13_df[\"1999\"]==1][[\"dir1\",\"dir2\"]]\n",
    "df_13_dfa[\"dir1\"]=df_13_dfa[\"dir1\"].astype(\"O\")\n",
    "df_13_dfa[\"dir2\"]=df_13_dfa[\"dir2\"].astype(\"O\")"
   ]
  },
  {
   "cell_type": "code",
   "execution_count": null,
   "id": "65ce1bf1",
   "metadata": {},
   "outputs": [],
   "source": [
    "Files=[df_1_dfa,df_2_dfa,df_3_dfa,df_4_dfa,df_5_dfa,df_6_dfa,df_7_dfa,df_8_dfa,df_9_dfa,df_10_dfa,df_11_dfa,df_12_dfa,df_13_dfa]"
   ]
  },
  {
   "cell_type": "code",
   "execution_count": null,
   "id": "4f64014b",
   "metadata": {},
   "outputs": [],
   "source": [
    "df_1999=pd.concat(Files,axis=0).reset_index()\n",
    "df_1999.iloc[:,1:].head()"
   ]
  },
  {
   "cell_type": "code",
   "execution_count": null,
   "id": "a6211a85",
   "metadata": {},
   "outputs": [],
   "source": [
    "df_1999.iloc[:,1:].to_parquet(\"1999_File.parquet\",index=False)"
   ]
  },
  {
   "cell_type": "code",
   "execution_count": null,
   "id": "23f83757",
   "metadata": {},
   "outputs": [],
   "source": [
    "df=pd.read_parquet(\"1999_File.parquet\")"
   ]
  },
  {
   "cell_type": "code",
   "execution_count": null,
   "id": "b1451eb5",
   "metadata": {},
   "outputs": [],
   "source": [
    "df.info()"
   ]
  },
  {
   "cell_type": "code",
   "execution_count": null,
   "id": "1afc7f6f",
   "metadata": {},
   "outputs": [],
   "source": [
    "df[\"dir1\"]=df[\"dir1\"].astype(\"O\")\n",
    "df[\"dir2\"]=df[\"dir2\"].astype(\"O\")"
   ]
  },
  {
   "cell_type": "code",
   "execution_count": null,
   "id": "17445780",
   "metadata": {},
   "outputs": [],
   "source": [
    "df.isnull().sum()"
   ]
  },
  {
   "cell_type": "code",
   "execution_count": null,
   "id": "e0eb4d58",
   "metadata": {},
   "outputs": [],
   "source": [
    "df.head()"
   ]
  },
  {
   "cell_type": "code",
   "execution_count": null,
   "id": "6494d979",
   "metadata": {},
   "outputs": [],
   "source": [
    "#For dir1 and dir2 to not be duplicated, we need to create few constraints for the nodes\n",
    "Queries to create constraint\n",
    "create constraint on (a:DIRECTOR1) ASSERT a.Dir1_Id is unique\n",
    "create constraint on (a:DIRECTOR2) ASSERT a.Dir2_Id is unique"
   ]
  },
  {
   "cell_type": "markdown",
   "id": "dd7fbb8f",
   "metadata": {},
   "source": [
    "To drop\n",
    "Drop constraint on (a:DIRECTOR1) ASSERT a.Dir1_Id is unique\n",
    "Drop constraint on (a:DIRECTOR2) ASSERT a.Dir2_Id is unique"
   ]
  },
  {
   "cell_type": "code",
   "execution_count": null,
   "id": "3a90da9b",
   "metadata": {},
   "outputs": [],
   "source": [
    "from neo4j import GraphDatabase\n",
    "driver=GraphDatabase.driver(uri=\"bolt://localhost:7687\",auth=(\"neo4j1\",\"12345\"))\n",
    "session=driver.session(database='pa1999')"
   ]
  },
  {
   "cell_type": "code",
   "execution_count": null,
   "id": "75b9d180",
   "metadata": {},
   "outputs": [],
   "source": [
    "q1=\"\"\"\n",
    "MERGE(A:DIRECTOR1{ID:$Dir1_Id})\n",
    "MERGE(B:DIRECTOR2{ID:$Dir2_Id})\n",
    "MERGE (A)-[:RELATED_TO]->(B)\n",
    "\"\"\"\n",
    "for i in df[\"dir1\"].unique():\n",
    "    x=df.groupby(\"dir1\")[[\"dir2\",\"dir1\"]].get_group(i)[\"dir2\"]\n",
    "    for j in x:\n",
    "        p={\"Dir1_Id\":i,\"Dir2_Id\":j}\n",
    "        session.run(q1,p)"
   ]
  },
  {
   "cell_type": "code",
   "execution_count": null,
   "id": "c7bd7c80",
   "metadata": {},
   "outputs": [],
   "source": [
    "CALL gds.graph.project('session',['DIR1','DIR1'],{LINKED_TO:{orientation :\"UNDIRECTED\"}}) #creates graph\n"
   ]
  },
  {
   "cell_type": "code",
   "execution_count": null,
   "id": "80a1ec78",
   "metadata": {},
   "outputs": [],
   "source": [
    "CALL gds.beta.closeness.stream('session')\n",
    "YIELD nodeId, score\n",
    "RETURN gds.util.asNode(nodeId).ID AS Dir, score\n",
    "ORDER BY score DESC                                    #Calculates closeness scores"
   ]
  },
  {
   "cell_type": "code",
   "execution_count": null,
   "id": "6607ea46",
   "metadata": {},
   "outputs": [],
   "source": [
    "CALL gds.betweenness.stream('session')\n",
    "YIELD nodeId, score\n",
    "RETURN gds.util.asNode(nodeId).NAME AS Dir, score\n",
    "ORDER BY score DESC                                   #Calculates betweenness scores"
   ]
  },
  {
   "cell_type": "code",
   "execution_count": null,
   "id": "005737cb",
   "metadata": {},
   "outputs": [],
   "source": []
  },
  {
   "cell_type": "code",
   "execution_count": null,
   "id": "082e778e",
   "metadata": {},
   "outputs": [],
   "source": []
  },
  {
   "cell_type": "code",
   "execution_count": null,
   "id": "52bc4e00",
   "metadata": {},
   "outputs": [],
   "source": []
  },
  {
   "cell_type": "code",
   "execution_count": null,
   "id": "edb51134",
   "metadata": {},
   "outputs": [],
   "source": []
  },
  {
   "cell_type": "code",
   "execution_count": null,
   "id": "e205d873",
   "metadata": {},
   "outputs": [],
   "source": []
  },
  {
   "cell_type": "code",
   "execution_count": null,
   "id": "60e8b947",
   "metadata": {},
   "outputs": [],
   "source": []
  },
  {
   "cell_type": "code",
   "execution_count": null,
   "id": "c679d310",
   "metadata": {},
   "outputs": [],
   "source": []
  },
  {
   "cell_type": "code",
   "execution_count": null,
   "id": "bd837e08",
   "metadata": {},
   "outputs": [],
   "source": []
  },
  {
   "cell_type": "code",
   "execution_count": null,
   "id": "3104ace2",
   "metadata": {},
   "outputs": [],
   "source": []
  }
 ],
 "metadata": {
  "kernelspec": {
   "display_name": "Python 3 (ipykernel)",
   "language": "python",
   "name": "python3"
  },
  "language_info": {
   "codemirror_mode": {
    "name": "ipython",
    "version": 3
   },
   "file_extension": ".py",
   "mimetype": "text/x-python",
   "name": "python",
   "nbconvert_exporter": "python",
   "pygments_lexer": "ipython3",
   "version": "3.9.7"
  }
 },
 "nbformat": 4,
 "nbformat_minor": 5
}
